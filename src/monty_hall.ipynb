{
 "cells": [
  {
   "cell_type": "code",
   "execution_count": null,
   "id": "6a777b46",
   "metadata": {},
   "outputs": [],
   "source": [
    "import random\n",
    "\n",
    "def monty_hall(switch_door):\n",
    "    doors = ['car'] + ['goat'] * 2\n",
    "    random.shuffle(doors)\n",
    "\n",
    "    inithial_choice = random.choice(range(3))\n",
    "    \n",
    "    doors_revealed = [i for i in range(3) if doors[i] != 'car' and i != inithial_choice]\n",
    "    door_revealed = random.choice(doors_revealed)\n",
    "\n",
    "    if switch_door:\n",
    "     final_choice = [i for i in range(3) if i != inithial_choice and i != door_revealed ]\n",
    "    else:\n",
    "     final_choice = inithial_choice\n",
    "\n",
    "    return doors[final_choice] == 'car'\n"
   ]
  },
  {
   "cell_type": "code",
   "execution_count": 8,
   "id": "06fdadd5",
   "metadata": {},
   "outputs": [],
   "source": [
    "def simulate_game(num_game):\n",
    "    without_switching =sum([monty_hall(False) for _ in range(num_game)])\n",
    "    with_switching = sum([monty_hall(True) for _ in range(num_game)])\n",
    "    return without_switching / num_game, with_switching /num_game\n"
   ]
  }
 ],
 "metadata": {
  "kernelspec": {
   "display_name": "py310",
   "language": "python",
   "name": "python3"
  },
  "language_info": {
   "codemirror_mode": {
    "name": "ipython",
    "version": 3
   },
   "file_extension": ".py",
   "mimetype": "text/x-python",
   "name": "python",
   "nbconvert_exporter": "python",
   "pygments_lexer": "ipython3",
   "version": "3.10.16"
  }
 },
 "nbformat": 4,
 "nbformat_minor": 5
}
